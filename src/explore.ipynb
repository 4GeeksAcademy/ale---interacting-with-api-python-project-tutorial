{
 "cells": [
  {
   "cell_type": "markdown",
   "metadata": {},
   "source": [
    "# Explore here"
   ]
  },
  {
   "cell_type": "code",
   "execution_count": 1,
   "metadata": {},
   "outputs": [
    {
     "data": {
      "text/plain": [
       "True"
      ]
     },
     "execution_count": 1,
     "metadata": {},
     "output_type": "execute_result"
    }
   ],
   "source": [
    "import os\n",
    "import pandas as pd\n",
    "import seaborn as sns\n",
    "from dotenv import load_dotenv\n",
    "# Setup the Spotify API client\n",
    "import spotipy\n",
    "from spotipy.oauth2 import SpotifyOAuth\n",
    "\n",
    "# load the .env file variables\n",
    "load_dotenv()\n",
    "\n"
   ]
  },
  {
   "cell_type": "code",
   "execution_count": 2,
   "metadata": {},
   "outputs": [
    {
     "name": "stdout",
     "output_type": "stream",
     "text": [
      "Client ID: edb26b61f25442498f50240999c1dc38\n",
      "Client Secret: 2ce7c220d4684f07b61f3942f3d3a110\n"
     ]
    }
   ],
   "source": [
    "client_id = os.getenv(\"CLIENT_ID\")\n",
    "client_secret = os.getenv(\"CLIENT_SECRET\")\n",
    "SPOTIPY_REDIRECT_URI = \"https://accounts.spotify.com/authorize?client_id=edb26b61f25442498f50240999c1dc38&response_type=code&redirect_uri=http%3A%2F%2Flocalhost%3A8080%2F&scope=user-library-read\"\n",
    "\n",
    "print(\"Client ID:\", client_id)\n",
    "print(\"Client Secret:\", client_secret)"
   ]
  },
  {
   "cell_type": "code",
   "execution_count": null,
   "metadata": {},
   "outputs": [],
   "source": [
    "# Artist ID for the artist you provided\n",
    "artist_id = '67ps5pbKVO7V9Fcb4lTIXz'\n",
    "\n",
    "\n",
    "\n",
    "sp = spotipy.Spotify(auth_manager=SpotifyOAuth(client_id=client_id,\n",
    "                                               client_secret=client_secret,\n",
    "                                               redirect_uri=SPOTIPY_REDIRECT_URI,\n",
    "                                               scope=\"user-library-read\"))\n",
    "\n",
    "# Get artist information\n",
    "artist_info = sp.artist(artist_id)\n",
    "\n",
    "# Print the artist's name and other relevant information\n",
    "print(f\"Artist Name: {artist_info['name']}\")\n",
    "print(f\"Genres: {', '.join(artist_info['genres'])}\")\n",
    "print(f\"Popularity: {artist_info['popularity']}\")\n",
    "print(f\"Followers: {artist_info['followers']['total']}\")"
   ]
  },
  {
   "cell_type": "markdown",
   "metadata": {},
   "source": [
    "No consigo cargar el url. he probado con http://localhost/, http://localhost:8080/, y lo que esta ahora es otra prueba que no funciona. La pratica la habia hecha ya, la habia entregada al parecer equivocandome de repositorio y el repositorio ya no está en mis codespaces. Tambien he vuelto a crear otra app en spotify para obtener otro secret/client pero sigue sin funcionar.  Dejo abajo algunos ejercicios con una api que si funciona. "
   ]
  },
  {
   "cell_type": "markdown",
   "metadata": {},
   "source": []
  }
 ],
 "metadata": {
  "kernelspec": {
   "display_name": "Python 3",
   "language": "python",
   "name": "python3"
  },
  "language_info": {
   "codemirror_mode": {
    "name": "ipython",
    "version": 3
   },
   "file_extension": ".py",
   "mimetype": "text/x-python",
   "name": "python",
   "nbconvert_exporter": "python",
   "pygments_lexer": "ipython3",
   "version": "3.11.6"
  },
  "orig_nbformat": 4
 },
 "nbformat": 4,
 "nbformat_minor": 2
}
